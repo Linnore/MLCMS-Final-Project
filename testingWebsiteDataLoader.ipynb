{
 "cells": [
  {
   "cell_type": "code",
   "execution_count": 1,
   "metadata": {},
   "outputs": [],
   "source": [
    "# import all the required packages\n",
    "import os\n",
    "import datetime\n",
    "import matplotlib.pyplot as plt\n",
    "import numpy as np\n",
    "import pandas as pd\n",
    "\n",
    "%load_ext autoreload\n",
    "%autoreload 2\n",
    "%matplotlib inline"
   ]
  },
  {
   "cell_type": "code",
   "execution_count": 2,
   "metadata": {},
   "outputs": [],
   "source": [
    "root = os.getcwd()\n",
    "website_dataset_path = os.path.join(root, \"dataset\", \"website_generated\")"
   ]
  },
  {
   "cell_type": "code",
   "execution_count": 11,
   "metadata": {},
   "outputs": [
    {
     "name": "stdout",
     "output_type": "stream",
     "text": [
      "2\n",
      "[[67.    4.    0.25  0.    0.    0.    0.    0.  ]\n",
      " [67.    5.    0.25  0.    0.    0.    0.    0.  ]\n",
      " [67.    2.    0.25  0.    0.    0.    0.    0.  ]\n",
      " [67.    6.    0.25  0.    0.    0.    0.    0.  ]\n",
      " [67.    7.    0.25  0.    0.    0.    0.    0.  ]\n",
      " [67.    1.    0.25  0.    0.    0.    0.    0.  ]\n",
      " [67.    8.    0.25  0.    0.    0.    0.    0.  ]\n",
      " [67.    3.    0.25  0.    0.    0.    0.    0.  ]\n",
      " [67.    9.    0.25  0.    0.    0.    0.    0.  ]]\n"
     ]
    }
   ],
   "source": [
    "from utils.websiteOutputLoader import websiteOutputLoader\n",
    "\n",
    "nameOfDataset = \"easy.txt\"\n",
    "numOfNeighbours = 2\n",
    "#contain_sk = True\n",
    "#numOfCols = 4 + 2*numOfNeighbours - (not contain_sk)\n",
    "contain_sk=True\n",
    "numOfNeighbours=2\n",
    "websiteRawdataLoader = websiteOutputLoader(website_dataset_path, website_dataset_path)\n",
    "websiteRawdata, sk = websiteRawdataLoader.loadData(nameOfDataset, numOfNeighbours, need_processing=True, contain_sk=contain_sk, return_sk=True)"
   ]
  },
  {
   "cell_type": "code",
   "execution_count": null,
   "metadata": {},
   "outputs": [],
   "source": []
  },
  {
   "cell_type": "code",
   "execution_count": null,
   "metadata": {},
   "outputs": [],
   "source": []
  }
 ],
 "metadata": {
  "kernelspec": {
   "display_name": "Python 3",
   "language": "python",
   "name": "python3"
  },
  "language_info": {
   "codemirror_mode": {
    "name": "ipython",
    "version": 3
   },
   "file_extension": ".py",
   "mimetype": "text/x-python",
   "name": "python",
   "nbconvert_exporter": "python",
   "pygments_lexer": "ipython3",
   "version": "3.8.5"
  }
 },
 "nbformat": 4,
 "nbformat_minor": 4
}
